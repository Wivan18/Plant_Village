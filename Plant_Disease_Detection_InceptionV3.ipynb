{
  "metadata": {
    "kernelspec": {
      "language": "python",
      "display_name": "Python 3",
      "name": "python3"
    },
    "language_info": {
      "name": "python",
      "version": "3.10.12",
      "mimetype": "text/x-python",
      "codemirror_mode": {
        "name": "ipython",
        "version": 3
      },
      "pygments_lexer": "ipython3",
      "nbconvert_exporter": "python",
      "file_extension": ".py"
    },
    "kaggle": {
      "accelerator": "gpu",
      "dataSources": [
        {
          "sourceId": 4723886,
          "sourceType": "datasetVersion",
          "datasetId": 2733399
        }
      ],
      "isInternetEnabled": true,
      "language": "python",
      "sourceType": "notebook",
      "isGpuEnabled": true
    },
    "colab": {
      "name": "Plant-Disease-Detection-InceptionV3",
      "provenance": []
    }
  },
  "nbformat_minor": 0,
  "nbformat": 4,
  "cells": [
    {
      "source": [
        "\n",
        "# IMPORTANT: RUN THIS CELL IN ORDER TO IMPORT YOUR KAGGLE DATA SOURCES\n",
        "# TO THE CORRECT LOCATION (/kaggle/input) IN YOUR NOTEBOOK,\n",
        "# THEN FEEL FREE TO DELETE THIS CELL.\n",
        "# NOTE: THIS NOTEBOOK ENVIRONMENT DIFFERS FROM KAGGLE'S PYTHON\n",
        "# ENVIRONMENT SO THERE MAY BE MISSING LIBRARIES USED BY YOUR\n",
        "# NOTEBOOK.\n",
        "\n",
        "import os\n",
        "import sys\n",
        "from tempfile import NamedTemporaryFile\n",
        "from urllib.request import urlopen\n",
        "from urllib.parse import unquote, urlparse\n",
        "from urllib.error import HTTPError\n",
        "from zipfile import ZipFile\n",
        "import tarfile\n",
        "import shutil\n",
        "\n",
        "CHUNK_SIZE = 40960\n",
        "DATA_SOURCE_MAPPING = 'majorplantdiseasedetection:https%3A%2F%2Fstorage.googleapis.com%2Fkaggle-data-sets%2F2733399%2F4723886%2Fbundle%2Farchive.zip%3FX-Goog-Algorithm%3DGOOG4-RSA-SHA256%26X-Goog-Credential%3Dgcp-kaggle-com%2540kaggle-161607.iam.gserviceaccount.com%252F20240925%252Fauto%252Fstorage%252Fgoog4_request%26X-Goog-Date%3D20240925T203726Z%26X-Goog-Expires%3D259200%26X-Goog-SignedHeaders%3Dhost%26X-Goog-Signature%3Dba9a69b5d90ab84cb059410bd9cdb4e541c92189626bc372e8a2954317961a6e191de48e532391800c5e373dcae1bc17dde14c0be6c0e3b27577e4fdd0aa70b97c4ec71ef293c2adc259c98725b4f1ba39556e60184a789dd4892a5cf45e58996d2c8347f4652897e03467d534a123bf13bd74183a4b41a0ff5932a091d4bfc9cf11ea6326c8fffda8b76840280e1d94148c3b8235f7cfb6bf345510c6ded7445199b3d07bde30c2ec862289c5defe6fb39b880f29d1efdeb13c93496f8bff4bd8448302b9564b98830f5116c87ac8bd448b3e9c9f3b3cf4efca560b0e54519dbe09c543bb5f2d3c8e2d1db02b1cb88b98a6062bcf4e33b0fe455b8bd3eaf1e7'\n",
        "\n",
        "KAGGLE_INPUT_PATH='/kaggle/input'\n",
        "KAGGLE_WORKING_PATH='/kaggle/working'\n",
        "KAGGLE_SYMLINK='kaggle'\n",
        "\n",
        "!umount /kaggle/input/ 2> /dev/null\n",
        "shutil.rmtree('/kaggle/input', ignore_errors=True)\n",
        "os.makedirs(KAGGLE_INPUT_PATH, 0o777, exist_ok=True)\n",
        "os.makedirs(KAGGLE_WORKING_PATH, 0o777, exist_ok=True)\n",
        "\n",
        "try:\n",
        "  os.symlink(KAGGLE_INPUT_PATH, os.path.join(\"..\", 'input'), target_is_directory=True)\n",
        "except FileExistsError:\n",
        "  pass\n",
        "try:\n",
        "  os.symlink(KAGGLE_WORKING_PATH, os.path.join(\"..\", 'working'), target_is_directory=True)\n",
        "except FileExistsError:\n",
        "  pass\n",
        "\n",
        "for data_source_mapping in DATA_SOURCE_MAPPING.split(','):\n",
        "    directory, download_url_encoded = data_source_mapping.split(':')\n",
        "    download_url = unquote(download_url_encoded)\n",
        "    filename = urlparse(download_url).path\n",
        "    destination_path = os.path.join(KAGGLE_INPUT_PATH, directory)\n",
        "    try:\n",
        "        with urlopen(download_url) as fileres, NamedTemporaryFile() as tfile:\n",
        "            total_length = fileres.headers['content-length']\n",
        "            print(f'Downloading {directory}, {total_length} bytes compressed')\n",
        "            dl = 0\n",
        "            data = fileres.read(CHUNK_SIZE)\n",
        "            while len(data) > 0:\n",
        "                dl += len(data)\n",
        "                tfile.write(data)\n",
        "                done = int(50 * dl / int(total_length))\n",
        "                sys.stdout.write(f\"\\r[{'=' * done}{' ' * (50-done)}] {dl} bytes downloaded\")\n",
        "                sys.stdout.flush()\n",
        "                data = fileres.read(CHUNK_SIZE)\n",
        "            if filename.endswith('.zip'):\n",
        "              with ZipFile(tfile) as zfile:\n",
        "                zfile.extractall(destination_path)\n",
        "            else:\n",
        "              with tarfile.open(tfile.name) as tarfile:\n",
        "                tarfile.extractall(destination_path)\n",
        "            print(f'\\nDownloaded and uncompressed: {directory}')\n",
        "    except HTTPError as e:\n",
        "        print(f'Failed to load (likely expired) {download_url} to path {destination_path}')\n",
        "        continue\n",
        "    except OSError as e:\n",
        "        print(f'Failed to load {download_url} to path {destination_path}')\n",
        "        continue\n",
        "\n",
        "print('Data source import complete.')\n"
      ],
      "metadata": {
        "id": "5jdpG6D05zpk"
      },
      "cell_type": "code",
      "outputs": [],
      "execution_count": null
    },
    {
      "cell_type": "code",
      "source": [
        "from tensorflow.keras.applications import InceptionV3\n",
        "from tensorflow.keras.layers import Dense, GlobalAveragePooling2D, Dropout, Flatten, Input\n",
        "from tensorflow.keras.models import Model\n",
        "from tensorflow.keras.optimizers import Adam\n",
        "from tensorflow.keras.preprocessing.image import ImageDataGenerator\n",
        "from tensorflow.keras.applications.inception_v3 import preprocess_input\n",
        "from tensorflow.keras.layers import Flatten, Dense, Dropout, Input\n",
        "from tensorflow.keras.models import Model\n",
        "from tensorflow.keras.optimizers import Adam\n",
        "from tensorflow.keras.utils import to_categorical\n",
        "from tensorflow.keras.preprocessing.image import ImageDataGenerator\n",
        "\n",
        "import numpy as np\n",
        "from sklearn.metrics import classification_report\n",
        "import time"
      ],
      "metadata": {
        "_uuid": "8f2839f25d086af736a60e9eeb907d3b93b6e0e5",
        "_cell_guid": "b1076dfc-b9ad-4769-8c92-a6c4dae69d19",
        "execution": {
          "iopub.status.busy": "2023-11-15T10:21:02.150149Z",
          "iopub.execute_input": "2023-11-15T10:21:02.150508Z",
          "iopub.status.idle": "2023-11-15T10:21:13.309236Z",
          "shell.execute_reply.started": "2023-11-15T10:21:02.150478Z",
          "shell.execute_reply": "2023-11-15T10:21:13.308464Z"
        },
        "trusted": true,
        "id": "he6yIqGY5zpq"
      },
      "execution_count": null,
      "outputs": []
    },
    {
      "cell_type": "code",
      "source": [
        "import os\n",
        "\n",
        "directory = '/kaggle/input/majorplantdiseasedetection/dataset/train'\n",
        "contents = os.listdir(directory)\n",
        "num_of_dirs = len([name for name in contents if os.path.isdir(os.path.join(directory, name))])\n",
        "\n",
        "print(\"Contents of the directory:\")\n",
        "for item in contents:\n",
        "    print(item)\n",
        "\n",
        "print(f\"\\nNumber of directories: {num_of_dirs}\")\n"
      ],
      "metadata": {
        "execution": {
          "iopub.status.busy": "2023-11-15T10:21:13.31132Z",
          "iopub.execute_input": "2023-11-15T10:21:13.311884Z",
          "iopub.status.idle": "2023-11-15T10:21:13.328166Z",
          "shell.execute_reply.started": "2023-11-15T10:21:13.311856Z",
          "shell.execute_reply": "2023-11-15T10:21:13.327238Z"
        },
        "trusted": true,
        "id": "D0Z7KknT5zpr"
      },
      "execution_count": null,
      "outputs": []
    },
    {
      "cell_type": "code",
      "source": [
        "from PIL import Image\n",
        "import os\n",
        "\n",
        "# Define the directory path\n",
        "directory_path = '/kaggle/input/majorplantdiseasedetection/dataset/train'\n",
        "\n",
        "# List all files in the directory\n",
        "file_names = os.listdir(directory_path)\n",
        "\n",
        "# Load images from the directory\n",
        "images = []\n",
        "for file_name in file_names:\n",
        "    if file_name.endswith('.png') or file_name.endswith('.jpg') or file_name.endswith('.jpeg'):\n",
        "        image_path = os.path.join(directory_path, file_name)\n",
        "        image = Image.open(image_path)\n",
        "        images.append(image)\n",
        "\n",
        "# Process the images as required\n",
        "# ...\n",
        "\n",
        "# Example: Showing the first image\n",
        "if images:\n",
        "    images[0].show()\n",
        "else:\n",
        "    print(\"No images found in the directory.\")"
      ],
      "metadata": {
        "execution": {
          "iopub.status.busy": "2023-11-15T10:21:13.329294Z",
          "iopub.execute_input": "2023-11-15T10:21:13.329593Z",
          "iopub.status.idle": "2023-11-15T10:21:13.337144Z",
          "shell.execute_reply.started": "2023-11-15T10:21:13.329543Z",
          "shell.execute_reply": "2023-11-15T10:21:13.336288Z"
        },
        "trusted": true,
        "id": "OzbohpBg5zpr"
      },
      "execution_count": null,
      "outputs": []
    },
    {
      "cell_type": "code",
      "source": [
        "# Define parameters\n",
        "batch_size = 128\n",
        "num_epochs = 40\n",
        "image_size = (139, 139)\n",
        "num_classes = 41\n"
      ],
      "metadata": {
        "execution": {
          "iopub.status.busy": "2023-11-15T10:21:13.33831Z",
          "iopub.execute_input": "2023-11-15T10:21:13.338613Z",
          "iopub.status.idle": "2023-11-15T10:21:13.343624Z",
          "shell.execute_reply.started": "2023-11-15T10:21:13.338579Z",
          "shell.execute_reply": "2023-11-15T10:21:13.342758Z"
        },
        "trusted": true,
        "id": "BNZwNDQe5zpr"
      },
      "execution_count": null,
      "outputs": []
    },
    {
      "cell_type": "code",
      "source": [
        "# Load the InceptionV3 model\n",
        "image_input = Input(shape=(*image_size, 3))\n",
        "inception_model = InceptionV3(input_tensor=image_input, weights='imagenet', include_top=False)\n"
      ],
      "metadata": {
        "execution": {
          "iopub.status.busy": "2023-11-15T10:21:13.345796Z",
          "iopub.execute_input": "2023-11-15T10:21:13.346094Z",
          "iopub.status.idle": "2023-11-15T10:21:25.6377Z",
          "shell.execute_reply.started": "2023-11-15T10:21:13.34607Z",
          "shell.execute_reply": "2023-11-15T10:21:25.636869Z"
        },
        "trusted": true,
        "id": "C4NnhaqH5zps"
      },
      "execution_count": null,
      "outputs": []
    },
    {
      "cell_type": "code",
      "source": [
        "# Add a new classification layer\n",
        "x = inception_model.output\n",
        "x = GlobalAveragePooling2D()(x)\n",
        "x = Dense(128, activation='relu')(x)\n",
        "x = Dropout(0.5)(x)\n",
        "class_outputs = Dense(num_classes, activation='softmax')(x)\n"
      ],
      "metadata": {
        "execution": {
          "iopub.status.busy": "2023-11-15T10:21:25.638807Z",
          "iopub.execute_input": "2023-11-15T10:21:25.639075Z",
          "iopub.status.idle": "2023-11-15T10:21:25.679148Z",
          "shell.execute_reply.started": "2023-11-15T10:21:25.639053Z",
          "shell.execute_reply": "2023-11-15T10:21:25.678443Z"
        },
        "trusted": true,
        "id": "wFGLxw9t5zps"
      },
      "execution_count": null,
      "outputs": []
    },
    {
      "cell_type": "code",
      "source": [
        "# Create the model\n",
        "model = Model(inputs=inception_model.input, outputs=class_outputs)\n",
        "\n",
        "# Compile the model\n",
        "model.compile(loss='categorical_crossentropy', optimizer=Adam(lr=0.001), metrics=['accuracy'])\n",
        "\n",
        "# Load the training data\n",
        "train_datagen = ImageDataGenerator(\n",
        "    preprocessing_function=preprocess_input,\n",
        "    rotation_range=20,\n",
        "    width_shift_range=0.2,\n",
        "    height_shift_range=0.2,\n",
        "    horizontal_flip=True\n",
        ")\n",
        "\n",
        "train_dataset = train_datagen.flow_from_directory(\n",
        "    '/kaggle/input/majorplantdiseasedetection/dataset/train',\n",
        "    target_size=(299, 299),\n",
        "    batch_size=batch_size,\n",
        "    class_mode='categorical'\n",
        ")\n",
        "\n",
        "# Load the validation data\n",
        "val_datagen = ImageDataGenerator(preprocessing_function=preprocess_input)\n",
        "\n",
        "val_dataset = val_datagen.flow_from_directory(\n",
        "    '/kaggle/input/majorplantdiseasedetection/dataset/train',\n",
        "    target_size=(299, 299),\n",
        "    batch_size=batch_size,\n",
        "    class_mode='categorical'\n",
        ")\n",
        "\n",
        "# Train the model and store the history\n",
        "history = model.fit(train_dataset, epochs=num_epochs, validation_data=val_dataset)\n",
        "\n",
        "# Evaluate the model on the test data\n",
        "test_datagen = ImageDataGenerator(preprocessing_function=preprocess_input)\n",
        "\n",
        "test_dataset = test_datagen.flow_from_directory(\n",
        "    '/kaggle/input/majorplantdiseasedetection/dataset/test',\n",
        "    target_size=(299, 299),\n",
        "    batch_size=batch_size,\n",
        "    class_mode='categorical'\n",
        ")\n",
        "\n",
        "# Save the model\n",
        "model.save('plant_disease_model_inception.h5')\n"
      ],
      "metadata": {
        "execution": {
          "iopub.status.busy": "2023-11-15T10:21:25.680127Z",
          "iopub.execute_input": "2023-11-15T10:21:25.68037Z",
          "iopub.status.idle": "2023-11-15T21:10:28.800947Z",
          "shell.execute_reply.started": "2023-11-15T10:21:25.680349Z",
          "shell.execute_reply": "2023-11-15T21:10:28.800018Z"
        },
        "trusted": true,
        "id": "I4-VtSEY5zpt"
      },
      "execution_count": null,
      "outputs": []
    },
    {
      "cell_type": "code",
      "source": [
        "# Save the model in native Keras format\n",
        "model.save('plant_disease_model_inception.keras')\n",
        "\n",
        "import joblib\n",
        "\n",
        "# Save the model using joblib\n",
        "joblib.dump(model, 'plant_disease_model_inception.pkl')\n"
      ],
      "metadata": {
        "execution": {
          "iopub.status.busy": "2023-11-15T21:42:58.354765Z",
          "iopub.execute_input": "2023-11-15T21:42:58.355648Z",
          "iopub.status.idle": "2023-11-15T21:43:04.060453Z",
          "shell.execute_reply.started": "2023-11-15T21:42:58.355619Z",
          "shell.execute_reply": "2023-11-15T21:43:04.059175Z"
        },
        "trusted": true,
        "id": "-GNt0YEF5zpu"
      },
      "execution_count": null,
      "outputs": []
    },
    {
      "cell_type": "code",
      "source": [
        "# Save model weights\n",
        "model.save_weights('model_weights.h5')\n",
        "\n",
        "# Save model configurations (architecture, optimizer state, etc.)\n",
        "model_config = model.get_config()\n",
        "with open('model_config.pkl', 'wb') as config_file:\n",
        "    joblib.dump(model_config, config_file)\n"
      ],
      "metadata": {
        "execution": {
          "iopub.status.busy": "2023-11-15T21:44:46.864021Z",
          "iopub.execute_input": "2023-11-15T21:44:46.864788Z",
          "iopub.status.idle": "2023-11-15T21:44:47.485977Z",
          "shell.execute_reply.started": "2023-11-15T21:44:46.86475Z",
          "shell.execute_reply": "2023-11-15T21:44:47.485209Z"
        },
        "trusted": true,
        "id": "ytygiCAa5zpv"
      },
      "execution_count": null,
      "outputs": []
    },
    {
      "cell_type": "code",
      "source": [
        "# Plot the metrics to visualize the training process\n",
        "import matplotlib.pyplot as plt\n",
        "\n",
        "def plot_metrics(history):\n",
        "    # Plot training & validation accuracy values\n",
        "    plt.plot(history.history['accuracy'])\n",
        "    plt.plot(history.history['val_accuracy'])\n",
        "    plt.title('Model accuracy')\n",
        "    plt.ylabel('Accuracy')\n",
        "    plt.xlabel('Epoch')\n",
        "    plt.legend(['Train', 'Validation'], loc='upper left')\n",
        "    plt.show()\n",
        "\n",
        "    # Plot training & validation loss values\n",
        "    plt.plot(history.history['loss'])\n",
        "    plt.plot(history.history['val_loss'])\n",
        "    plt.title('Model loss')\n",
        "    plt.ylabel('Loss')\n",
        "    plt.xlabel('Epoch')\n",
        "    plt.legend(['Train', 'Validation'], loc='upper left')\n",
        "    plt.show()\n",
        "\n",
        "plot_metrics(history)"
      ],
      "metadata": {
        "execution": {
          "iopub.status.busy": "2023-11-15T21:10:28.802774Z",
          "iopub.execute_input": "2023-11-15T21:10:28.803133Z",
          "iopub.status.idle": "2023-11-15T21:10:29.405143Z",
          "shell.execute_reply.started": "2023-11-15T21:10:28.803099Z",
          "shell.execute_reply": "2023-11-15T21:10:29.404271Z"
        },
        "trusted": true,
        "id": "BlyWBV7O5zpv"
      },
      "execution_count": null,
      "outputs": []
    },
    {
      "cell_type": "code",
      "source": [
        "# Load the test data\n",
        "test_datagen = ImageDataGenerator(preprocessing_function=preprocess_input)\n",
        "\n",
        "test_dataset = test_datagen.flow_from_directory(\n",
        "    '/kaggle/input/majorplantdiseasedetection/dataset/test',\n",
        "    target_size=(299, 299),\n",
        "    batch_size=batch_size,\n",
        "    class_mode='categorical',\n",
        "    shuffle=False  # Set shuffle to False to maintain the order for evaluation\n",
        ")\n",
        "\n",
        "# Evaluate the model on the test data\n",
        "start_time = time.time()\n",
        "evaluation_result = model.evaluate(test_dataset)\n",
        "print(\"Time taken to evaluate the model: \" + str(time.time() - start_time))\n",
        "\n",
        "# Print the evaluation result\n",
        "print(\"Test Loss:\", evaluation_result[0])\n",
        "print(\"Test Accuracy:\", evaluation_result[1])\n",
        "\n",
        "# Make predictions on the test set\n",
        "y_pred = model.predict(test_dataset)\n",
        "y_pred_bool = np.argmax(y_pred, axis=1)\n",
        "\n",
        "# Get true labels directly from test_dataset\n",
        "true_labels = test_dataset.labels\n",
        "\n",
        "# Print the classification report\n",
        "print(classification_report(true_labels, y_pred_bool, digits=4))\n",
        "\n",
        "# Optionally, you can save the evaluation results for further analysis\n",
        "np.savetxt(\"y_true.txt\", true_labels, fmt=\"%d\")\n",
        "np.savetxt(\"y_pred.txt\", y_pred_bool, fmt=\"%d\")\n"
      ],
      "metadata": {
        "execution": {
          "iopub.status.busy": "2023-11-15T21:10:29.40738Z",
          "iopub.execute_input": "2023-11-15T21:10:29.407844Z",
          "iopub.status.idle": "2023-11-15T21:12:37.628084Z",
          "shell.execute_reply.started": "2023-11-15T21:10:29.40781Z",
          "shell.execute_reply": "2023-11-15T21:12:37.627184Z"
        },
        "trusted": true,
        "id": "4o3mjoD15zpv"
      },
      "execution_count": null,
      "outputs": []
    },
    {
      "cell_type": "code",
      "source": [
        "# from sklearn.svm import SVC\n",
        "# from sklearn.preprocessing import StandardScaler\n",
        "# from sklearn.metrics import classification_report, confusion_matrix\n",
        "# import joblib\n",
        "# import numpy as np\n",
        "\n",
        "# # Extract features from the InceptionV3 model\n",
        "# train_features = model.predict(train_dataset)\n",
        "# val_features = model.predict(train_dataset)\n",
        "\n",
        "# # Flatten the features\n",
        "# train_features_flatten = train_features.reshape(train_features.shape[0], -1)\n",
        "# val_features_flatten = val_features.reshape(val_features.shape[0], -1)\n",
        "\n",
        "# # Scale the data\n",
        "# scaler = StandardScaler()\n",
        "# train_features_scaled = scaler.fit_transform(train_features_flatten)\n",
        "# val_features_scaled = scaler.transform(val_features_flatten)\n",
        "\n",
        "# # Ensure train_labels is a 1D array\n",
        "# train_labels = np.argmax(train_labels, axis=1)\n",
        "\n",
        "# # Train the SVM classifier\n",
        "# svm_model = SVC(kernel='rbf', C=1.0, gamma='auto')\n",
        "# svm_model.fit(train_features_scaled, train_labels)\n",
        "\n",
        "# # Save the SVM model\n",
        "# joblib.dump(svm_model, 'svm_model.pkl')\n",
        "\n",
        "# # Make predictions on the validation set\n",
        "# val_predictions = svm_model.predict(val_features_scaled)\n",
        "\n",
        "# # Convert val_labels to 1D array\n",
        "# val_labels = np.argmax(val_labels, axis=1)\n",
        "\n",
        "# # Print the classification report and confusion matrix\n",
        "# print(\"Classification Report:\")\n",
        "# print(classification_report(val_labels, val_predictions))\n",
        "# print(\"\\nConfusion Matrix:\")\n",
        "# print(confusion_matrix(val_labels, val_predictions))\n"
      ],
      "metadata": {
        "execution": {
          "iopub.status.busy": "2023-11-15T21:47:17.001795Z",
          "iopub.execute_input": "2023-11-15T21:47:17.0027Z",
          "iopub.status.idle": "2023-11-15T21:47:17.00748Z",
          "shell.execute_reply.started": "2023-11-15T21:47:17.002667Z",
          "shell.execute_reply": "2023-11-15T21:47:17.006603Z"
        },
        "trusted": true,
        "id": "j-MGJD9c5zpw"
      },
      "execution_count": null,
      "outputs": []
    }
  ]
}